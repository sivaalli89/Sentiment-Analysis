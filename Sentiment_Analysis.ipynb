{
  "nbformat": 4,
  "nbformat_minor": 0,
  "metadata": {
    "colab": {
      "provenance": [],
      "gpuType": "T4"
    },
    "kernelspec": {
      "name": "python3",
      "display_name": "Python 3"
    },
    "language_info": {
      "name": "python"
    },
    "accelerator": "GPU"
  },
  "cells": [
    {
      "cell_type": "code",
      "source": [
        "from google.colab import drive\n",
        "import pandas as pd\n",
        "import re\n",
        "import string\n",
        "import nltk\n",
        "nltk.download('stopwords')\n",
        "from nltk.corpus import stopwords\n",
        "nltk.download('wordnet')\n",
        "from nltk.stem import WordNetLemmatizer\n",
        "import keras\n",
        "from sklearn.model_selection import train_test_split\n",
        "from tensorflow.keras.preprocessing.text import Tokenizer\n",
        "from tensorflow.keras.preprocessing.sequence import pad_sequences\n",
        "from tensorflow.keras.models import Sequential\n",
        "from tensorflow.keras.layers import Embedding, Bidirectional, LSTM, Dense\n",
        "\n"
      ],
      "metadata": {
        "colab": {
          "base_uri": "https://localhost:8080/"
        },
        "id": "y7HtYSznoD6e",
        "outputId": "790a4976-9779-4785-f236-308612b1840e"
      },
      "execution_count": 1,
      "outputs": [
        {
          "output_type": "stream",
          "name": "stderr",
          "text": [
            "[nltk_data] Downloading package stopwords to /root/nltk_data...\n",
            "[nltk_data]   Package stopwords is already up-to-date!\n",
            "[nltk_data] Downloading package wordnet to /root/nltk_data...\n",
            "[nltk_data]   Package wordnet is already up-to-date!\n"
          ]
        }
      ]
    },
    {
      "cell_type": "code",
      "source": [
        "drive.mount('/content/drive/')\n",
        "\n",
        "df = pd.read_csv(r'/content/drive/MyDrive/Colab Notebooks/Steam Sentiment Analysis.csv')"
      ],
      "metadata": {
        "colab": {
          "base_uri": "https://localhost:8080/"
        },
        "id": "pNngQAVyWwfO",
        "outputId": "6d23af80-b1a1-4b83-d298-9edc7655a153"
      },
      "execution_count": 2,
      "outputs": [
        {
          "output_type": "stream",
          "name": "stdout",
          "text": [
            "Drive already mounted at /content/drive/; to attempt to forcibly remount, call drive.mount(\"/content/drive/\", force_remount=True).\n"
          ]
        }
      ]
    },
    {
      "cell_type": "code",
      "source": [
        "df['is_positive'] = df['is_positive'].apply(lambda x: 1 if x == 'Negative' else 0)"
      ],
      "metadata": {
        "id": "AjEd6KIoRf2O"
      },
      "execution_count": 3,
      "outputs": []
    },
    {
      "source": [
        "def preprocess_text(text):\n",
        "    if isinstance(text, str):\n",
        "        text = text.lower()\n",
        "        text = re.sub(r'http\\S+|www\\S+|https\\S+', '', text, flags=re.MULTILINE)\n",
        "        text = re.sub(r'[^\\w\\s]', '', text)\n",
        "    return text\n",
        "\n",
        "def remove_stopwords(text):\n",
        "    stop_words = set(stopwords.words('english'))\n",
        "    if isinstance(text, str):\n",
        "        words = text.split()\n",
        "        filtered_words = [word for word in words if word not in stop_words]\n",
        "        return \" \".join(filtered_words)\n",
        "    return text\n",
        "\n",
        "def lemmatize_text(text):\n",
        "    lemmatizer = WordNetLemmatizer()\n",
        "    if isinstance(text, str):\n",
        "        words = text.split()\n",
        "        lemmatized_words = [lemmatizer.lemmatize(word) for word in words]\n",
        "        return \" \".join(lemmatized_words)\n",
        "    return text\n",
        "\n",
        "df['content'] = df['content'].apply(preprocess_text)\n",
        "df['content'] = df['content'].apply(remove_stopwords)\n",
        "df['content'] = df['content'].apply(lemmatize_text)"
      ],
      "cell_type": "code",
      "metadata": {
        "id": "HuQveS8RWEhU"
      },
      "execution_count": 4,
      "outputs": []
    },
    {
      "cell_type": "code",
      "source": [
        "X = df['content']\n",
        "y = keras.utils.to_categorical(df['is_positive'], num_classes=2)"
      ],
      "metadata": {
        "id": "tGjP7mhscs1K"
      },
      "execution_count": 5,
      "outputs": []
    },
    {
      "cell_type": "code",
      "source": [
        "X_train, X_test, y_train, y_test = train_test_split(X, y, test_size=0.2, random_state=42)\n",
        "\n",
        "X_train, X_test = X_train.astype(str), X_test.astype(str)\n",
        "\n",
        "tokenizer = Tokenizer(num_words=5000)\n",
        "tokenizer.fit_on_texts(X_train)\n",
        "\n",
        "X_train_seq = tokenizer.texts_to_sequences(X_train)\n",
        "X_test_seq = tokenizer.texts_to_sequences(X_test)\n",
        "\n",
        "max_sequence_length = 100\n",
        "X_train_pad = pad_sequences(X_train_seq, maxlen=max_sequence_length)\n",
        "X_test_pad = pad_sequences(X_test_seq, maxlen=max_sequence_length)\n",
        "\n",
        "model = Sequential()\n",
        "model.add(Embedding(5000, 128, input_length=max_sequence_length))\n",
        "model.add(Bidirectional(LSTM(64)))\n",
        "model.add(Dense(2, activation='softmax'))\n",
        "\n",
        "model.compile(optimizer='adam', loss='binary_crossentropy', metrics=['accuracy'])\n",
        "\n",
        "model.fit(X_train_pad, y_train, epochs=5, batch_size=32, validation_split=0.1)"
      ],
      "metadata": {
        "colab": {
          "base_uri": "https://localhost:8080/"
        },
        "id": "L16Vvh4moIwb",
        "outputId": "109c5d27-6e5d-4818-ad4b-7a267bc71f9f"
      },
      "execution_count": 6,
      "outputs": [
        {
          "output_type": "stream",
          "name": "stderr",
          "text": [
            "/usr/local/lib/python3.10/dist-packages/keras/src/layers/core/embedding.py:90: UserWarning: Argument `input_length` is deprecated. Just remove it.\n",
            "  warnings.warn(\n"
          ]
        },
        {
          "output_type": "stream",
          "name": "stdout",
          "text": [
            "Epoch 1/5\n",
            "\u001b[1m4526/4526\u001b[0m \u001b[32m━━━━━━━━━━━━━━━━━━━━\u001b[0m\u001b[37m\u001b[0m \u001b[1m59s\u001b[0m 12ms/step - accuracy: 0.7937 - loss: 0.4227 - val_accuracy: 0.8339 - val_loss: 0.3630\n",
            "Epoch 2/5\n",
            "\u001b[1m4526/4526\u001b[0m \u001b[32m━━━━━━━━━━━━━━━━━━━━\u001b[0m\u001b[37m\u001b[0m \u001b[1m78s\u001b[0m 12ms/step - accuracy: 0.8429 - loss: 0.3377 - val_accuracy: 0.8350 - val_loss: 0.3504\n",
            "Epoch 3/5\n",
            "\u001b[1m4526/4526\u001b[0m \u001b[32m━━━━━━━━━━━━━━━━━━━━\u001b[0m\u001b[37m\u001b[0m \u001b[1m82s\u001b[0m 12ms/step - accuracy: 0.8587 - loss: 0.3070 - val_accuracy: 0.8367 - val_loss: 0.3579\n",
            "Epoch 4/5\n",
            "\u001b[1m4526/4526\u001b[0m \u001b[32m━━━━━━━━━━━━━━━━━━━━\u001b[0m\u001b[37m\u001b[0m \u001b[1m82s\u001b[0m 12ms/step - accuracy: 0.8668 - loss: 0.2872 - val_accuracy: 0.8374 - val_loss: 0.3613\n",
            "Epoch 5/5\n",
            "\u001b[1m4526/4526\u001b[0m \u001b[32m━━━━━━━━━━━━━━━━━━━━\u001b[0m\u001b[37m\u001b[0m \u001b[1m82s\u001b[0m 12ms/step - accuracy: 0.8738 - loss: 0.2714 - val_accuracy: 0.8360 - val_loss: 0.3697\n"
          ]
        },
        {
          "output_type": "execute_result",
          "data": {
            "text/plain": [
              "<keras.src.callbacks.history.History at 0x79741da788b0>"
            ]
          },
          "metadata": {},
          "execution_count": 6
        }
      ]
    },
    {
      "cell_type": "code",
      "source": [
        "import numpy as np\n",
        "from sklearn.metrics import classification_report, confusion_matrix\n",
        "import seaborn as sns\n",
        "import matplotlib.pyplot as plt\n",
        "\n",
        "y_true = np.argmax(y_test, axis = 1)\n",
        "pred = np.argmax(model.predict(X_test_pad, verbose=0), axis = 1)\n",
        "\n",
        "print(classification_report(y_true, pred))\n",
        "\n",
        "cm = confusion_matrix(y_true, pred)\n",
        "\n",
        "plt.figure(figsize = (8, 5))\n",
        "sns.heatmap(cm, annot = True,  fmt = '.0f', xticklabels = ['Positive', 'Negetive'], yticklabels = ['Positive', 'Negetive'])\n",
        "plt.ylabel('Actual')\n",
        "plt.xlabel('Predicted')\n",
        "plt.show()"
      ],
      "metadata": {
        "colab": {
          "base_uri": "https://localhost:8080/",
          "height": 621
        },
        "id": "GLqpEQoGoNOs",
        "outputId": "11d2c3d4-ed71-4d4c-f2cb-f2b12421fe69"
      },
      "execution_count": 7,
      "outputs": [
        {
          "output_type": "stream",
          "name": "stdout",
          "text": [
            "              precision    recall  f1-score   support\n",
            "\n",
            "           0       0.82      0.87      0.84     20592\n",
            "           1       0.86      0.79      0.82     19639\n",
            "\n",
            "    accuracy                           0.83     40231\n",
            "   macro avg       0.84      0.83      0.83     40231\n",
            "weighted avg       0.83      0.83      0.83     40231\n",
            "\n"
          ]
        },
        {
          "output_type": "display_data",
          "data": {
            "text/plain": [
              "<Figure size 800x500 with 2 Axes>"
            ],
            "image/png": "[encoded data removed]"
          },
          "metadata": {}
        }
      ]
    }
  ]
}